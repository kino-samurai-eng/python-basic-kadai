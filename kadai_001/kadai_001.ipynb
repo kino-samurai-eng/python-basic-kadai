{
  "nbformat": 4,
  "nbformat_minor": 0,
  "metadata": {
    "colab": {
      "provenance": []
    },
    "kernelspec": {
      "name": "python3",
      "display_name": "Python 3"
    },
    "language_info": {
      "name": "python"
    }
  },
  "cells": [
    {
      "cell_type": "code",
      "execution_count": 15,
      "metadata": {
        "id": "knmVOA0FnwO2"
      },
      "outputs": [],
      "source": [
        "import openpyxl\n",
        "from datetime import datetime\n",
        "\n",
        "# ワークブックとシートの作成\n",
        "workbook = openpyxl.Workbook()\n",
        "sheet = workbook.active"
      ]
    },
    {
      "cell_type": "code",
      "source": [
        "# 日付の設定\n",
        "today = datetime.today()\n",
        "\n",
        "# 日付のtodayオブジェクトを、特定のフォーマットで文字列に変換する\n",
        "date = today.strftime('%Y/%m/%d')\n",
        "#出力して確認\n",
        "print(date)"
      ],
      "metadata": {
        "colab": {
          "base_uri": "https://localhost:8080/"
        },
        "id": "dh41Ocp35j2V",
        "outputId": "ed8dca94-7ee1-428d-d691-44f2b2d061c8"
      },
      "execution_count": 16,
      "outputs": [
        {
          "output_type": "stream",
          "name": "stdout",
          "text": [
            "2025/06/21\n"
          ]
        }
      ]
    },
    {
      "cell_type": "markdown",
      "source": [
        "教材：https://terakoya.sejuku.net/programs/98/chapters/1283\n",
        "だとdatetime.now()を使っているみたいですね；"
      ],
      "metadata": {
        "id": "hx43veUyI766"
      }
    },
    {
      "cell_type": "code",
      "source": [
        "#now()を使ったVer\n",
        "# 現在の日付と時刻を取得\n",
        "now = datetime.now()\n",
        "\n",
        "# フォーマットして文字列に変換\n",
        "date = now.strftime('%Y/%m/%d')\n",
        "#出力して確認\n",
        "print(date)\n"
      ],
      "metadata": {
        "colab": {
          "base_uri": "https://localhost:8080/"
        },
        "id": "sGI-z7okI6nS",
        "outputId": "61c6f1de-68b3-4489-8c8f-38e22dbf57c2"
      },
      "execution_count": 17,
      "outputs": [
        {
          "output_type": "stream",
          "name": "stdout",
          "text": [
            "2025/06/21\n"
          ]
        }
      ]
    },
    {
      "cell_type": "code",
      "source": [
        "sheet['B2'] = '請求書'\n",
        "sheet['B4'] = '株式会社ABC'\n",
        "sheet['B5'] = '〒101-0022 東京都千代田区神田練塀町300'\n",
        "sheet['B6'] = 'TEL:03-1234-5678 FAX:03-1234-5678'\n",
        "sheet['B7'] = '担当者名:鈴木一郎 様'\n",
        "sheet['F4'] = 'No.'\n",
        "sheet['G4'] = '0001'\n",
        "sheet['F5'] = '日付'"
      ],
      "metadata": {
        "id": "RJDVmm1jn45V"
      },
      "execution_count": 18,
      "outputs": []
    },
    {
      "cell_type": "code",
      "source": [
        "#日付を入れます\n",
        "sheet['G5'] = date"
      ],
      "metadata": {
        "id": "Z1-sB_6toUK0"
      },
      "execution_count": 19,
      "outputs": []
    },
    {
      "cell_type": "code",
      "source": [
        "# 商品データの設定\n",
        "header = ['商品名', '数量', '単価', '金額']\n",
        "data = [\n",
        "    ['商品A', 2, 10000],\n",
        "    ['商品B', 1, 15000],\n",
        "]"
      ],
      "metadata": {
        "id": "lSZCnAqE6msi"
      },
      "execution_count": 20,
      "outputs": []
    },
    {
      "cell_type": "code",
      "source": [
        "# 商品ヘッダーをループで書き込む方法（列のインデックスは2から始める）\n",
        "# データの量が増えても対応しやすく、保守性が高い\n",
        "for col, title in enumerate(header, start=2):\n",
        "    sheet.cell(row=10, column=col, value=title)"
      ],
      "metadata": {
        "id": "3hZg_wCm6yFC"
      },
      "execution_count": 21,
      "outputs": []
    },
    {
      "cell_type": "code",
      "source": [
        "#商品ヘッダーデータ数が少ないときはベタ打ちでこれでも良いと思います①\n",
        "sheet['B10'] = header[0]\n",
        "sheet['C10'] = header[1]\n",
        "sheet['D10'] = header[2]\n",
        "sheet['E10'] = header[3]\n"
      ],
      "metadata": {
        "id": "A4bzsukS7f21"
      },
      "execution_count": 22,
      "outputs": []
    },
    {
      "cell_type": "code",
      "source": [
        "#商品ヘッダーデータ数が少ないときはベタ打ちでこれでも良いと思います②\n",
        "sheet.cell(row=10, column=2, value=header[0])\n",
        "sheet.cell(row=10, column=3, value=header[1])\n",
        "sheet.cell(row=10, column=4, value=header[2])\n",
        "sheet.cell(row=10, column=5, value=header[3])\n"
      ],
      "metadata": {
        "colab": {
          "base_uri": "https://localhost:8080/"
        },
        "id": "v2jOG7OIJvFz",
        "outputId": "9169d635-1779-41c3-bc23-3b7949deeecc"
      },
      "execution_count": 23,
      "outputs": [
        {
          "output_type": "execute_result",
          "data": {
            "text/plain": [
              "<Cell 'Sheet'.E10>"
            ]
          },
          "metadata": {},
          "execution_count": 23
        }
      ]
    },
    {
      "cell_type": "markdown",
      "source": [
        "↑<Cell 'Sheet'.E10>のログは別にバグとかではなく仕様らしい。最後のrow=10, column=5がE10っていうことみたいです"
      ],
      "metadata": {
        "id": "mIi0MGjwK5bB"
      }
    },
    {
      "cell_type": "code",
      "source": [
        "#挿入する始まりの行\n",
        "start_row = 11\n",
        "#合計の変数（初期値0）\n",
        "total = 0"
      ],
      "metadata": {
        "id": "_s8V0Nmp7ydr"
      },
      "execution_count": 24,
      "outputs": []
    },
    {
      "cell_type": "markdown",
      "source": [
        "↓今回変数名sumにしちゃったけどsum()関数と名前被るから別の名前のほうがよさそうでした；\n",
        "\n",
        "組み込み関数と被るので amount などにしておいてください"
      ],
      "metadata": {
        "id": "xXp7wur1MT8s"
      }
    },
    {
      "cell_type": "code",
      "source": [
        "#非推奨の例\n",
        "#dataの配列の中の配列を1行ずループ処理\n",
        "for i, info in enumerate(data):\n",
        "  #sumに個数×単価の金額を代入\n",
        "  sum = info[1]*info[2]\n",
        "  sheet.cell(row=i+start_row, column=2, value=info[0])\n",
        "  sheet.cell(row=i+start_row, column=3, value=info[1])\n",
        "  sheet.cell(row=i+start_row, column=4, value=info[2])\n",
        "  sheet.cell(row=i+start_row, column=5, value=sum)\n",
        "  #totalに合計を加算していく\n",
        "  total += sum\n"
      ],
      "metadata": {
        "id": "cHtoYzFY8Coi"
      },
      "execution_count": 11,
      "outputs": []
    },
    {
      "cell_type": "code",
      "source": [
        "#amountに変更\n",
        "#dataの配列の中の配列を1行ずループ処理\n",
        "for i, info in enumerate(data):\n",
        "    #amountに個数×単価を代入（sumは組み込み関数なので避ける）\n",
        "    amount = info[1] * info[2]\n",
        "    sheet.cell(row=i+start_row, column=2, value=info[0])  # 商品名\n",
        "    sheet.cell(row=i+start_row, column=3, value=info[1])  # 数量\n",
        "    sheet.cell(row=i+start_row, column=4, value=info[2])  # 単価\n",
        "    sheet.cell(row=i+start_row, column=5, value=amount)   # 金額\n",
        "    #totalに合計を加算していく\n",
        "    total += amount"
      ],
      "metadata": {
        "id": "MwaVGYz-NCm6"
      },
      "execution_count": 25,
      "outputs": []
    },
    {
      "cell_type": "code",
      "source": [
        "# 最後の行を取得（データの一番下）\n",
        "last_row =sheet.max_row\n",
        "# 合計の表示\n",
        "sheet.cell(row=last_row+1, column=5, value=total)\n",
        "# 小計の表示\n",
        "sheet.cell(row=last_row+3, column=2, value=\"小計\")\n",
        "sheet.cell(row=last_row+3, column=5, value=total)\n",
        "# 消費税の表示（10%）\n",
        "sheet.cell(row=last_row+4, column=2, value=\"消費税\")\n",
        "sheet.cell(row=last_row+4, column=5, value=total*0.1)\n",
        "# 合計も同じように作ってみてください↓\n",
        "sheet.cell(row=last_row+5, column=2, value=\"合計\")\n",
        "sheet.cell(row=last_row+5, column=5, value=total*1.1)"
      ],
      "metadata": {
        "colab": {
          "base_uri": "https://localhost:8080/"
        },
        "id": "S20Zlk1M9L2e",
        "outputId": "85952658-7fbb-4926-98a9-a338098f9ffb"
      },
      "execution_count": 26,
      "outputs": [
        {
          "output_type": "execute_result",
          "data": {
            "text/plain": [
              "<Cell 'Sheet'.E17>"
            ]
          },
          "metadata": {},
          "execution_count": 26
        }
      ]
    },
    {
      "cell_type": "code",
      "source": [
        "# ワークブックの保存\n",
        "\n",
        "# 日付のtodayオブジェクトを、特定のフォーマットで文字列に変換する\n",
        "backup_filename = f\"請求書_{today.strftime('%Y%m%d')}.xlsx\"\n",
        "\n",
        "workbook.save(backup_filename)"
      ],
      "metadata": {
        "id": "PEIfoG5hP2yD"
      },
      "execution_count": 27,
      "outputs": []
    }
  ]
}